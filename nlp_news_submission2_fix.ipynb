{
  "nbformat": 4,
  "nbformat_minor": 0,
  "metadata": {
    "colab": {
      "provenance": [],
      "collapsed_sections": []
    },
    "kernelspec": {
      "name": "python3",
      "display_name": "Python 3"
    },
    "language_info": {
      "name": "python"
    },
    "accelerator": "GPU",
    "gpuClass": "standard"
  },
  "cells": [
    {
      "cell_type": "markdown",
      "source": [
        "#**Fajri Yanti** \n",
        "\n",
        "> M03 - m314y0826@dicoding.org/20106311700069@student.unsika.ac.id\n",
        "\n",
        "> Universitas Singaperbangsa Karawang\n",
        "\n",
        "\n",
        "\n",
        "\n"
      ],
      "metadata": {
        "id": "WSh6bnIJYeDU"
      }
    },
    {
      "cell_type": "markdown",
      "source": [
        "**train.csv:**\n",
        "\n",
        "A full training dataset with the following attributes:\n",
        "*   id: unique id for a news article\n",
        "*   text: the text of the article; could be incomplete\n",
        "*   author: author of the news article\n",
        "*   title: the title of a news article\n",
        "*   label: a label that marks the article as potentially unreliable\n",
        "*   1: unreliable\n",
        "*   0: reliable\n",
        "\n",
        "\n"
      ],
      "metadata": {
        "id": "fWNvzI2X8thk"
      }
    },
    {
      "cell_type": "code",
      "execution_count": 53,
      "metadata": {
        "id": "v9L9fJQS6NUD",
        "colab": {
          "base_uri": "https://localhost:8080/"
        },
        "outputId": "f91d9b59-8860-46ee-e0ff-3115f683d010"
      },
      "outputs": [
        {
          "output_type": "stream",
          "name": "stderr",
          "text": [
            "[nltk_data] Downloading package stopwords to /root/nltk_data...\n",
            "[nltk_data]   Package stopwords is already up-to-date!\n"
          ]
        }
      ],
      "source": [
        "import seaborn as sns\n",
        "import nltk\n",
        "import csv\n",
        "import re\n",
        "import pandas as pd\n",
        "import numpy as np\n",
        "import matplotlib.pyplot as plt\n",
        "%matplotlib inline\n",
        "import warnings\n",
        "import tensorflow as tf\n",
        "warnings.filterwarnings('ignore')\n",
        "from keras.layers import Embedding\n",
        "from sklearn.model_selection import train_test_split\n",
        "import nltk\n",
        "nltk.download('stopwords')\n",
        "from nltk.corpus import stopwords\n",
        "from keras.preprocessing.text import Tokenizer \n",
        "from keras.preprocessing.sequence import pad_sequences"
      ]
    },
    {
      "cell_type": "code",
      "source": [
        "df = pd.read_csv('train.csv')\n",
        "df.head()"
      ],
      "metadata": {
        "id": "IpLaBJXr9Q4t",
        "colab": {
          "base_uri": "https://localhost:8080/",
          "height": 206
        },
        "outputId": "436971a0-a522-4a11-b573-8930fca74e4d"
      },
      "execution_count": 54,
      "outputs": [
        {
          "output_type": "execute_result",
          "data": {
            "text/plain": [
              "   id                                              title              author  \\\n",
              "0   0  House Dem Aide: We Didn’t Even See Comey’s Let...       Darrell Lucus   \n",
              "1   1  FLYNN: Hillary Clinton, Big Woman on Campus - ...     Daniel J. Flynn   \n",
              "2   2                  Why the Truth Might Get You Fired  Consortiumnews.com   \n",
              "3   3  15 Civilians Killed In Single US Airstrike Hav...     Jessica Purkiss   \n",
              "4   4  Iranian woman jailed for fictional unpublished...      Howard Portnoy   \n",
              "\n",
              "                                                text  label  \n",
              "0  House Dem Aide: We Didn’t Even See Comey’s Let...      1  \n",
              "1  Ever get the feeling your life circles the rou...      0  \n",
              "2  Why the Truth Might Get You Fired October 29, ...      1  \n",
              "3  Videos 15 Civilians Killed In Single US Airstr...      1  \n",
              "4  Print \\nAn Iranian woman has been sentenced to...      1  "
            ],
            "text/html": [
              "\n",
              "  <div id=\"df-cb408c1e-ed1f-4ef6-8f7f-be77d7e3ec3e\">\n",
              "    <div class=\"colab-df-container\">\n",
              "      <div>\n",
              "<style scoped>\n",
              "    .dataframe tbody tr th:only-of-type {\n",
              "        vertical-align: middle;\n",
              "    }\n",
              "\n",
              "    .dataframe tbody tr th {\n",
              "        vertical-align: top;\n",
              "    }\n",
              "\n",
              "    .dataframe thead th {\n",
              "        text-align: right;\n",
              "    }\n",
              "</style>\n",
              "<table border=\"1\" class=\"dataframe\">\n",
              "  <thead>\n",
              "    <tr style=\"text-align: right;\">\n",
              "      <th></th>\n",
              "      <th>id</th>\n",
              "      <th>title</th>\n",
              "      <th>author</th>\n",
              "      <th>text</th>\n",
              "      <th>label</th>\n",
              "    </tr>\n",
              "  </thead>\n",
              "  <tbody>\n",
              "    <tr>\n",
              "      <th>0</th>\n",
              "      <td>0</td>\n",
              "      <td>House Dem Aide: We Didn’t Even See Comey’s Let...</td>\n",
              "      <td>Darrell Lucus</td>\n",
              "      <td>House Dem Aide: We Didn’t Even See Comey’s Let...</td>\n",
              "      <td>1</td>\n",
              "    </tr>\n",
              "    <tr>\n",
              "      <th>1</th>\n",
              "      <td>1</td>\n",
              "      <td>FLYNN: Hillary Clinton, Big Woman on Campus - ...</td>\n",
              "      <td>Daniel J. Flynn</td>\n",
              "      <td>Ever get the feeling your life circles the rou...</td>\n",
              "      <td>0</td>\n",
              "    </tr>\n",
              "    <tr>\n",
              "      <th>2</th>\n",
              "      <td>2</td>\n",
              "      <td>Why the Truth Might Get You Fired</td>\n",
              "      <td>Consortiumnews.com</td>\n",
              "      <td>Why the Truth Might Get You Fired October 29, ...</td>\n",
              "      <td>1</td>\n",
              "    </tr>\n",
              "    <tr>\n",
              "      <th>3</th>\n",
              "      <td>3</td>\n",
              "      <td>15 Civilians Killed In Single US Airstrike Hav...</td>\n",
              "      <td>Jessica Purkiss</td>\n",
              "      <td>Videos 15 Civilians Killed In Single US Airstr...</td>\n",
              "      <td>1</td>\n",
              "    </tr>\n",
              "    <tr>\n",
              "      <th>4</th>\n",
              "      <td>4</td>\n",
              "      <td>Iranian woman jailed for fictional unpublished...</td>\n",
              "      <td>Howard Portnoy</td>\n",
              "      <td>Print \\nAn Iranian woman has been sentenced to...</td>\n",
              "      <td>1</td>\n",
              "    </tr>\n",
              "  </tbody>\n",
              "</table>\n",
              "</div>\n",
              "      <button class=\"colab-df-convert\" onclick=\"convertToInteractive('df-cb408c1e-ed1f-4ef6-8f7f-be77d7e3ec3e')\"\n",
              "              title=\"Convert this dataframe to an interactive table.\"\n",
              "              style=\"display:none;\">\n",
              "        \n",
              "  <svg xmlns=\"http://www.w3.org/2000/svg\" height=\"24px\"viewBox=\"0 0 24 24\"\n",
              "       width=\"24px\">\n",
              "    <path d=\"M0 0h24v24H0V0z\" fill=\"none\"/>\n",
              "    <path d=\"M18.56 5.44l.94 2.06.94-2.06 2.06-.94-2.06-.94-.94-2.06-.94 2.06-2.06.94zm-11 1L8.5 8.5l.94-2.06 2.06-.94-2.06-.94L8.5 2.5l-.94 2.06-2.06.94zm10 10l.94 2.06.94-2.06 2.06-.94-2.06-.94-.94-2.06-.94 2.06-2.06.94z\"/><path d=\"M17.41 7.96l-1.37-1.37c-.4-.4-.92-.59-1.43-.59-.52 0-1.04.2-1.43.59L10.3 9.45l-7.72 7.72c-.78.78-.78 2.05 0 2.83L4 21.41c.39.39.9.59 1.41.59.51 0 1.02-.2 1.41-.59l7.78-7.78 2.81-2.81c.8-.78.8-2.07 0-2.86zM5.41 20L4 18.59l7.72-7.72 1.47 1.35L5.41 20z\"/>\n",
              "  </svg>\n",
              "      </button>\n",
              "      \n",
              "  <style>\n",
              "    .colab-df-container {\n",
              "      display:flex;\n",
              "      flex-wrap:wrap;\n",
              "      gap: 12px;\n",
              "    }\n",
              "\n",
              "    .colab-df-convert {\n",
              "      background-color: #E8F0FE;\n",
              "      border: none;\n",
              "      border-radius: 50%;\n",
              "      cursor: pointer;\n",
              "      display: none;\n",
              "      fill: #1967D2;\n",
              "      height: 32px;\n",
              "      padding: 0 0 0 0;\n",
              "      width: 32px;\n",
              "    }\n",
              "\n",
              "    .colab-df-convert:hover {\n",
              "      background-color: #E2EBFA;\n",
              "      box-shadow: 0px 1px 2px rgba(60, 64, 67, 0.3), 0px 1px 3px 1px rgba(60, 64, 67, 0.15);\n",
              "      fill: #174EA6;\n",
              "    }\n",
              "\n",
              "    [theme=dark] .colab-df-convert {\n",
              "      background-color: #3B4455;\n",
              "      fill: #D2E3FC;\n",
              "    }\n",
              "\n",
              "    [theme=dark] .colab-df-convert:hover {\n",
              "      background-color: #434B5C;\n",
              "      box-shadow: 0px 1px 3px 1px rgba(0, 0, 0, 0.15);\n",
              "      filter: drop-shadow(0px 1px 2px rgba(0, 0, 0, 0.3));\n",
              "      fill: #FFFFFF;\n",
              "    }\n",
              "  </style>\n",
              "\n",
              "      <script>\n",
              "        const buttonEl =\n",
              "          document.querySelector('#df-cb408c1e-ed1f-4ef6-8f7f-be77d7e3ec3e button.colab-df-convert');\n",
              "        buttonEl.style.display =\n",
              "          google.colab.kernel.accessAllowed ? 'block' : 'none';\n",
              "\n",
              "        async function convertToInteractive(key) {\n",
              "          const element = document.querySelector('#df-cb408c1e-ed1f-4ef6-8f7f-be77d7e3ec3e');\n",
              "          const dataTable =\n",
              "            await google.colab.kernel.invokeFunction('convertToInteractive',\n",
              "                                                     [key], {});\n",
              "          if (!dataTable) return;\n",
              "\n",
              "          const docLinkHtml = 'Like what you see? Visit the ' +\n",
              "            '<a target=\"_blank\" href=https://colab.research.google.com/notebooks/data_table.ipynb>data table notebook</a>'\n",
              "            + ' to learn more about interactive tables.';\n",
              "          element.innerHTML = '';\n",
              "          dataTable['output_type'] = 'display_data';\n",
              "          await google.colab.output.renderOutput(dataTable, element);\n",
              "          const docLink = document.createElement('div');\n",
              "          docLink.innerHTML = docLinkHtml;\n",
              "          element.appendChild(docLink);\n",
              "        }\n",
              "      </script>\n",
              "    </div>\n",
              "  </div>\n",
              "  "
            ]
          },
          "metadata": {},
          "execution_count": 54
        }
      ]
    },
    {
      "cell_type": "code",
      "source": [
        "df['title'][0]"
      ],
      "metadata": {
        "id": "4BLPgJ-4B_8J",
        "colab": {
          "base_uri": "https://localhost:8080/",
          "height": 35
        },
        "outputId": "53d59eca-28ba-4253-86ac-a2226d68e08b"
      },
      "execution_count": 55,
      "outputs": [
        {
          "output_type": "execute_result",
          "data": {
            "text/plain": [
              "'House Dem Aide: We Didn’t Even See Comey’s Letter Until Jason Chaffetz Tweeted It'"
            ],
            "application/vnd.google.colaboratory.intrinsic+json": {
              "type": "string"
            }
          },
          "metadata": {},
          "execution_count": 55
        }
      ]
    },
    {
      "cell_type": "code",
      "source": [
        "df['text'][0]"
      ],
      "metadata": {
        "id": "zSjlCme3Xs9E",
        "colab": {
          "base_uri": "https://localhost:8080/",
          "height": 104
        },
        "outputId": "b5e6a7ef-56f6-43e2-a500-0c3fa7eaa6a5"
      },
      "execution_count": 56,
      "outputs": [
        {
          "output_type": "execute_result",
          "data": {
            "text/plain": [
              "'House Dem Aide: We Didn’t Even See Comey’s Letter Until Jason Chaffetz Tweeted It By Darrell Lucus on October 30, 2016 Subscribe Jason Chaffetz on the stump in American Fork, Utah ( image courtesy Michael Jolley, available under a Creative Commons-BY license) \\nWith apologies to Keith Olbermann, there is no doubt who the Worst Person in The World is this week–FBI Director James Comey. But according to a House Democratic aide, it looks like we also know who the second-worst person is as well. It turns out that when Comey sent his now-infamous letter announcing that the FBI was looking into emails that may be related to Hillary Clinton’s email server, the ranking Democrats on the relevant committees didn’t hear about it from Comey. They found out via a tweet from one of the Republican committee chairmen. \\nAs we now know, Comey notified the Republican chairmen and Democratic ranking members of the House Intelligence, Judiciary, and Oversight committees that his agency was reviewing emails it had recently discovered in order to see if they contained classified information. Not long after this letter went out, Oversight Committee Chairman Jason Chaffetz set the political world ablaze with this tweet. FBI Dir just informed me, \"The FBI has learned of the existence of emails that appear to be pertinent to the investigation.\" Case reopened \\n— Jason Chaffetz (@jasoninthehouse) October 28, 2016 \\nOf course, we now know that this was not the case . Comey was actually saying that it was reviewing the emails in light of “an unrelated case”–which we now know to be Anthony Weiner’s sexting with a teenager. But apparently such little things as facts didn’t matter to Chaffetz. The Utah Republican had already vowed to initiate a raft of investigations if Hillary wins–at least two years’ worth, and possibly an entire term’s worth of them. Apparently Chaffetz thought the FBI was already doing his work for him–resulting in a tweet that briefly roiled the nation before cooler heads realized it was a dud. \\nBut according to a senior House Democratic aide, misreading that letter may have been the least of Chaffetz’ sins. That aide told Shareblue that his boss and other Democrats didn’t even know about Comey’s letter at the time–and only found out when they checked Twitter. “Democratic Ranking Members on the relevant committees didn’t receive Comey’s letter until after the Republican Chairmen. In fact, the Democratic Ranking Members didn’ receive it until after the Chairman of the Oversight and Government Reform Committee, Jason Chaffetz, tweeted it out and made it public.” \\nSo let’s see if we’ve got this right. The FBI director tells Chaffetz and other GOP committee chairmen about a major development in a potentially politically explosive investigation, and neither Chaffetz nor his other colleagues had the courtesy to let their Democratic counterparts know about it. Instead, according to this aide, he made them find out about it on Twitter. \\nThere has already been talk on Daily Kos that Comey himself provided advance notice of this letter to Chaffetz and other Republicans, giving them time to turn on the spin machine. That may make for good theater, but there is nothing so far that even suggests this is the case. After all, there is nothing so far that suggests that Comey was anything other than grossly incompetent and tone-deaf. \\nWhat it does suggest, however, is that Chaffetz is acting in a way that makes Dan Burton and Darrell Issa look like models of responsibility and bipartisanship. He didn’t even have the decency to notify ranking member Elijah Cummings about something this explosive. If that doesn’t trample on basic standards of fairness, I don’t know what does. \\nGranted, it’s not likely that Chaffetz will have to answer for this. He sits in a ridiculously Republican district anchored in Provo and Orem; it has a Cook Partisan Voting Index of R+25, and gave Mitt Romney a punishing 78 percent of the vote in 2012. Moreover, the Republican House leadership has given its full support to Chaffetz’ planned fishing expedition. But that doesn’t mean we can’t turn the hot lights on him. After all, he is a textbook example of what the House has become under Republican control. And he is also the Second Worst Person in the World. About Darrell Lucus \\nDarrell is a 30-something graduate of the University of North Carolina who considers himself a journalist of the old school. An attempt to turn him into a member of the religious right in college only succeeded in turning him into the religious right\\'s worst nightmare--a charismatic Christian who is an unapologetic liberal. His desire to stand up for those who have been scared into silence only increased when he survived an abusive three-year marriage. You may know him on Daily Kos as Christian Dem in NC . Follow him on Twitter @DarrellLucus or connect with him on Facebook . Click here to buy Darrell a Mello Yello. Connect'"
            ],
            "application/vnd.google.colaboratory.intrinsic+json": {
              "type": "string"
            }
          },
          "metadata": {},
          "execution_count": 56
        }
      ]
    },
    {
      "cell_type": "code",
      "source": [
        "df.info()"
      ],
      "metadata": {
        "id": "3AKY9vzhRoOB",
        "colab": {
          "base_uri": "https://localhost:8080/"
        },
        "outputId": "5098cd04-afd5-4a7e-a44c-e25f195b3a0a"
      },
      "execution_count": 57,
      "outputs": [
        {
          "output_type": "stream",
          "name": "stdout",
          "text": [
            "<class 'pandas.core.frame.DataFrame'>\n",
            "RangeIndex: 20800 entries, 0 to 20799\n",
            "Data columns (total 5 columns):\n",
            " #   Column  Non-Null Count  Dtype \n",
            "---  ------  --------------  ----- \n",
            " 0   id      20800 non-null  int64 \n",
            " 1   title   20242 non-null  object\n",
            " 2   author  18843 non-null  object\n",
            " 3   text    20761 non-null  object\n",
            " 4   label   20800 non-null  int64 \n",
            "dtypes: int64(2), object(3)\n",
            "memory usage: 812.6+ KB\n"
          ]
        }
      ]
    },
    {
      "cell_type": "code",
      "source": [
        "df = df.drop(columns=['id', 'author', 'title'], axis=1)"
      ],
      "metadata": {
        "id": "06iqiGeDXyKL"
      },
      "execution_count": 58,
      "outputs": []
    },
    {
      "cell_type": "code",
      "source": [
        "df = df.dropna(axis=0)"
      ],
      "metadata": {
        "id": "cRF0KIQ_YfxP"
      },
      "execution_count": 59,
      "outputs": []
    },
    {
      "cell_type": "code",
      "source": [
        "len(df)"
      ],
      "metadata": {
        "id": "ZNVDku--YyUI",
        "colab": {
          "base_uri": "https://localhost:8080/"
        },
        "outputId": "155f228d-dfe9-494e-d02e-298da2ec4ba0"
      },
      "execution_count": 60,
      "outputs": [
        {
          "output_type": "execute_result",
          "data": {
            "text/plain": [
              "20761"
            ]
          },
          "metadata": {},
          "execution_count": 60
        }
      ]
    },
    {
      "cell_type": "code",
      "source": [
        "df_news= df['text'].str.lower()\n",
        "df_news"
      ],
      "metadata": {
        "id": "jKUk4e9AY1IW",
        "colab": {
          "base_uri": "https://localhost:8080/"
        },
        "outputId": "7fdf7f2f-8e0d-43c5-9fd3-5e3353cd09f9"
      },
      "execution_count": 61,
      "outputs": [
        {
          "output_type": "execute_result",
          "data": {
            "text/plain": [
              "0        house dem aide: we didn’t even see comey’s let...\n",
              "1        ever get the feeling your life circles the rou...\n",
              "2        why the truth might get you fired october 29, ...\n",
              "3        videos 15 civilians killed in single us airstr...\n",
              "4        print \\nan iranian woman has been sentenced to...\n",
              "                               ...                        \n",
              "20795    rapper t. i. unloaded on black celebrities who...\n",
              "20796    when the green bay packers lost to the washing...\n",
              "20797    the macy’s of today grew from the union of sev...\n",
              "20798    nato, russia to hold parallel exercises in bal...\n",
              "20799      david swanson is an author, activist, journa...\n",
              "Name: text, Length: 20761, dtype: object"
            ]
          },
          "metadata": {},
          "execution_count": 61
        }
      ]
    },
    {
      "cell_type": "code",
      "source": [
        "df_news = df_news.str.replace('\\n', ' ')\n",
        "df_news = df_news.str.replace('[^A-Za-z0-9\\s]', '')\n",
        "df_news = df_news.str.replace('\\s+', ' ')\n",
        "\n",
        "df_news"
      ],
      "metadata": {
        "id": "COKZRb0zSRQp",
        "colab": {
          "base_uri": "https://localhost:8080/"
        },
        "outputId": "bf40ba4c-5078-4a3d-b456-f8d94b132984"
      },
      "execution_count": 62,
      "outputs": [
        {
          "output_type": "execute_result",
          "data": {
            "text/plain": [
              "0        house dem aide we didnt even see comeys letter...\n",
              "1        ever get the feeling your life circles the rou...\n",
              "2        why the truth might get you fired october 29 2...\n",
              "3        videos 15 civilians killed in single us airstr...\n",
              "4        print an iranian woman has been sentenced to s...\n",
              "                               ...                        \n",
              "20795    rapper t i unloaded on black celebrities who m...\n",
              "20796    when the green bay packers lost to the washing...\n",
              "20797    the macys of today grew from the union of seve...\n",
              "20798    nato russia to hold parallel exercises in balk...\n",
              "20799     david swanson is an author activist journalis...\n",
              "Name: text, Length: 20761, dtype: object"
            ]
          },
          "metadata": {},
          "execution_count": 62
        }
      ]
    },
    {
      "cell_type": "code",
      "source": [
        "stop = stopwords.words('english')\n",
        "df_news = df_news.apply(lambda x: \" \".join([word for word in x.split() if word not in stop])) \n",
        "df.head()"
      ],
      "metadata": {
        "id": "znvobRxYZel7",
        "colab": {
          "base_uri": "https://localhost:8080/",
          "height": 206
        },
        "outputId": "c5b5bd96-d63b-4a25-e12f-f3a1aa7a6d38"
      },
      "execution_count": 63,
      "outputs": [
        {
          "output_type": "execute_result",
          "data": {
            "text/plain": [
              "                                                text  label\n",
              "0  House Dem Aide: We Didn’t Even See Comey’s Let...      1\n",
              "1  Ever get the feeling your life circles the rou...      0\n",
              "2  Why the Truth Might Get You Fired October 29, ...      1\n",
              "3  Videos 15 Civilians Killed In Single US Airstr...      1\n",
              "4  Print \\nAn Iranian woman has been sentenced to...      1"
            ],
            "text/html": [
              "\n",
              "  <div id=\"df-92cef340-2e55-45d8-9a7b-256c85ab229c\">\n",
              "    <div class=\"colab-df-container\">\n",
              "      <div>\n",
              "<style scoped>\n",
              "    .dataframe tbody tr th:only-of-type {\n",
              "        vertical-align: middle;\n",
              "    }\n",
              "\n",
              "    .dataframe tbody tr th {\n",
              "        vertical-align: top;\n",
              "    }\n",
              "\n",
              "    .dataframe thead th {\n",
              "        text-align: right;\n",
              "    }\n",
              "</style>\n",
              "<table border=\"1\" class=\"dataframe\">\n",
              "  <thead>\n",
              "    <tr style=\"text-align: right;\">\n",
              "      <th></th>\n",
              "      <th>text</th>\n",
              "      <th>label</th>\n",
              "    </tr>\n",
              "  </thead>\n",
              "  <tbody>\n",
              "    <tr>\n",
              "      <th>0</th>\n",
              "      <td>House Dem Aide: We Didn’t Even See Comey’s Let...</td>\n",
              "      <td>1</td>\n",
              "    </tr>\n",
              "    <tr>\n",
              "      <th>1</th>\n",
              "      <td>Ever get the feeling your life circles the rou...</td>\n",
              "      <td>0</td>\n",
              "    </tr>\n",
              "    <tr>\n",
              "      <th>2</th>\n",
              "      <td>Why the Truth Might Get You Fired October 29, ...</td>\n",
              "      <td>1</td>\n",
              "    </tr>\n",
              "    <tr>\n",
              "      <th>3</th>\n",
              "      <td>Videos 15 Civilians Killed In Single US Airstr...</td>\n",
              "      <td>1</td>\n",
              "    </tr>\n",
              "    <tr>\n",
              "      <th>4</th>\n",
              "      <td>Print \\nAn Iranian woman has been sentenced to...</td>\n",
              "      <td>1</td>\n",
              "    </tr>\n",
              "  </tbody>\n",
              "</table>\n",
              "</div>\n",
              "      <button class=\"colab-df-convert\" onclick=\"convertToInteractive('df-92cef340-2e55-45d8-9a7b-256c85ab229c')\"\n",
              "              title=\"Convert this dataframe to an interactive table.\"\n",
              "              style=\"display:none;\">\n",
              "        \n",
              "  <svg xmlns=\"http://www.w3.org/2000/svg\" height=\"24px\"viewBox=\"0 0 24 24\"\n",
              "       width=\"24px\">\n",
              "    <path d=\"M0 0h24v24H0V0z\" fill=\"none\"/>\n",
              "    <path d=\"M18.56 5.44l.94 2.06.94-2.06 2.06-.94-2.06-.94-.94-2.06-.94 2.06-2.06.94zm-11 1L8.5 8.5l.94-2.06 2.06-.94-2.06-.94L8.5 2.5l-.94 2.06-2.06.94zm10 10l.94 2.06.94-2.06 2.06-.94-2.06-.94-.94-2.06-.94 2.06-2.06.94z\"/><path d=\"M17.41 7.96l-1.37-1.37c-.4-.4-.92-.59-1.43-.59-.52 0-1.04.2-1.43.59L10.3 9.45l-7.72 7.72c-.78.78-.78 2.05 0 2.83L4 21.41c.39.39.9.59 1.41.59.51 0 1.02-.2 1.41-.59l7.78-7.78 2.81-2.81c.8-.78.8-2.07 0-2.86zM5.41 20L4 18.59l7.72-7.72 1.47 1.35L5.41 20z\"/>\n",
              "  </svg>\n",
              "      </button>\n",
              "      \n",
              "  <style>\n",
              "    .colab-df-container {\n",
              "      display:flex;\n",
              "      flex-wrap:wrap;\n",
              "      gap: 12px;\n",
              "    }\n",
              "\n",
              "    .colab-df-convert {\n",
              "      background-color: #E8F0FE;\n",
              "      border: none;\n",
              "      border-radius: 50%;\n",
              "      cursor: pointer;\n",
              "      display: none;\n",
              "      fill: #1967D2;\n",
              "      height: 32px;\n",
              "      padding: 0 0 0 0;\n",
              "      width: 32px;\n",
              "    }\n",
              "\n",
              "    .colab-df-convert:hover {\n",
              "      background-color: #E2EBFA;\n",
              "      box-shadow: 0px 1px 2px rgba(60, 64, 67, 0.3), 0px 1px 3px 1px rgba(60, 64, 67, 0.15);\n",
              "      fill: #174EA6;\n",
              "    }\n",
              "\n",
              "    [theme=dark] .colab-df-convert {\n",
              "      background-color: #3B4455;\n",
              "      fill: #D2E3FC;\n",
              "    }\n",
              "\n",
              "    [theme=dark] .colab-df-convert:hover {\n",
              "      background-color: #434B5C;\n",
              "      box-shadow: 0px 1px 3px 1px rgba(0, 0, 0, 0.15);\n",
              "      filter: drop-shadow(0px 1px 2px rgba(0, 0, 0, 0.3));\n",
              "      fill: #FFFFFF;\n",
              "    }\n",
              "  </style>\n",
              "\n",
              "      <script>\n",
              "        const buttonEl =\n",
              "          document.querySelector('#df-92cef340-2e55-45d8-9a7b-256c85ab229c button.colab-df-convert');\n",
              "        buttonEl.style.display =\n",
              "          google.colab.kernel.accessAllowed ? 'block' : 'none';\n",
              "\n",
              "        async function convertToInteractive(key) {\n",
              "          const element = document.querySelector('#df-92cef340-2e55-45d8-9a7b-256c85ab229c');\n",
              "          const dataTable =\n",
              "            await google.colab.kernel.invokeFunction('convertToInteractive',\n",
              "                                                     [key], {});\n",
              "          if (!dataTable) return;\n",
              "\n",
              "          const docLinkHtml = 'Like what you see? Visit the ' +\n",
              "            '<a target=\"_blank\" href=https://colab.research.google.com/notebooks/data_table.ipynb>data table notebook</a>'\n",
              "            + ' to learn more about interactive tables.';\n",
              "          element.innerHTML = '';\n",
              "          dataTable['output_type'] = 'display_data';\n",
              "          await google.colab.output.renderOutput(dataTable, element);\n",
              "          const docLink = document.createElement('div');\n",
              "          docLink.innerHTML = docLinkHtml;\n",
              "          element.appendChild(docLink);\n",
              "        }\n",
              "      </script>\n",
              "    </div>\n",
              "  </div>\n",
              "  "
            ]
          },
          "metadata": {},
          "execution_count": 63
        }
      ]
    },
    {
      "cell_type": "markdown",
      "source": [
        "##**Word Tokenization-Embedding**"
      ],
      "metadata": {
        "id": "rg--CAyZefKU"
      }
    },
    {
      "cell_type": "code",
      "source": [
        "tokenizer = Tokenizer()\n",
        "tokenizer.fit_on_texts(df_news)\n",
        "word_index = tokenizer.word_index\n",
        "vocab_size = len(word_index)\n",
        "vocab_size"
      ],
      "metadata": {
        "id": "YUmuAp5ne6mD",
        "colab": {
          "base_uri": "https://localhost:8080/"
        },
        "outputId": "e8cced3c-3834-4527-9143-151044c1065f"
      },
      "execution_count": 64,
      "outputs": [
        {
          "output_type": "execute_result",
          "data": {
            "text/plain": [
              "187330"
            ]
          },
          "metadata": {},
          "execution_count": 64
        }
      ]
    },
    {
      "cell_type": "code",
      "source": [
        "sequences = tokenizer.texts_to_sequences(df_news)\n",
        "sequence_train = pad_sequences(sequences, maxlen=700, \n",
        "                               padding='post', truncating='post')"
      ],
      "metadata": {
        "id": "5H-DidP5fSfY"
      },
      "execution_count": 65,
      "outputs": []
    },
    {
      "cell_type": "markdown",
      "source": [
        "**Embedding Matrix**"
      ],
      "metadata": {
        "id": "3CTGY1Q8gi5G"
      }
    },
    {
      "cell_type": "code",
      "source": [
        "from keras.layers import Embedding\n",
        "embedding_index = {}\n",
        "with open('glove.6B.100d.txt') as f:\n",
        "  for line in f:\n",
        "    values = line.split()\n",
        "    word = values[0]\n",
        "    coefs = np.asarray(values[1:], dtype='float32')\n",
        "    embedding_index[word] = coefs"
      ],
      "metadata": {
        "id": "GrdL_8Rplua4"
      },
      "execution_count": 66,
      "outputs": []
    },
    {
      "cell_type": "code",
      "source": [
        "embedding_matrix = np.zeros((vocab_size+1, 100))\n",
        "for word, i in word_index.items():\n",
        "    embedding_vector = embedding_index.get(word)\n",
        "    if embedding_vector is not None:\n",
        "       embedding_matrix[i] = embedding_vector"
      ],
      "metadata": {
        "id": "pEF2XgWl6fZQ"
      },
      "execution_count": 67,
      "outputs": []
    },
    {
      "cell_type": "code",
      "source": [
        "embedding_matrix[2]"
      ],
      "metadata": {
        "id": "tMU8r5FB8cuk",
        "colab": {
          "base_uri": "https://localhost:8080/"
        },
        "outputId": "1fc05af5-7c33-419e-9d55-d50b47d2c325"
      },
      "execution_count": 68,
      "outputs": [
        {
          "output_type": "execute_result",
          "data": {
            "text/plain": [
              "array([-0.24683   , -0.045153  , -0.29971999,  0.0937    , -0.34841999,\n",
              "       -0.46226999, -0.10377   ,  0.45923999, -0.07445   , -0.58451003,\n",
              "        0.47005999,  0.35023999,  0.84766001,  0.19461   , -0.026859  ,\n",
              "       -0.39385   , -0.49254   , -0.089339  , -0.61903   ,  0.69009   ,\n",
              "       -0.15106   , -0.84705001, -0.15933   , -0.95722002,  0.15478   ,\n",
              "        0.37959   ,  0.72816998, -0.29701999, -0.12257   ,  0.21346   ,\n",
              "        0.21806   ,  0.91428   ,  0.37544   ,  0.033504  , -0.25409001,\n",
              "        0.85389   ,  0.26176   ,  0.45006001, -0.29513001, -0.69571   ,\n",
              "       -0.54319   , -0.42732   ,  0.70349002, -0.27261999, -0.012136  ,\n",
              "        0.31689   , -0.47824001, -0.37551001, -0.083939  , -0.37176999,\n",
              "        0.25060001,  0.26706001,  0.75913   ,  0.21206   , -0.44014001,\n",
              "       -1.1652    , -0.26971999,  0.39151999,  0.017277  , -0.77004999,\n",
              "        0.10493   , -0.047084  , -1.17840004,  0.2138    ,  0.88777   ,\n",
              "        0.45394999,  0.43608999,  0.81035   ,  0.16952001,  0.32100999,\n",
              "       -0.032423  ,  0.29036   , -0.07741   , -0.82968003,  0.197     ,\n",
              "        0.11483   ,  0.16161001,  0.18889   , -0.28729001, -0.47773999,\n",
              "        0.60921001, -0.47845   ,  0.088519  , -0.22677   , -0.72566003,\n",
              "        0.069987  , -0.40274   , -0.16778   ,  0.22475   , -0.64683002,\n",
              "        0.19864   , -0.24213   ,  0.23748   ,  0.73246998,  0.78997999,\n",
              "       -0.16396999, -0.14923   , -0.22978   , -0.63699001, -0.78636003])"
            ]
          },
          "metadata": {},
          "execution_count": 68
        }
      ]
    },
    {
      "cell_type": "code",
      "source": [
        "sequence_train[2]"
      ],
      "metadata": {
        "id": "cqmZ4FWh8nfh",
        "colab": {
          "base_uri": "https://localhost:8080/"
        },
        "outputId": "0574eeef-149b-4b70-e71b-edea6e436bed"
      },
      "execution_count": 69,
      "outputs": [
        {
          "output_type": "execute_result",
          "data": {
            "text/plain": [
              "array([  592,   109,    28,  1313,   256,  1725,    60,  4585,   331,\n",
              "        1977,    52, 14577,   227,  2463,  9051,  7926,   560,  4500,\n",
              "         204,  3634,    74,   527,    55,  1702,  6571, 11718,  6571,\n",
              "       11718,   109,  2089,   149,   122,  4476,  1324,    37,   453,\n",
              "        2647,  5735,   109,  2732,   494,  1304,   466,  2564,    25,\n",
              "          19,  4190,   521,  3346,    43,   262,  1944,  2483,   595,\n",
              "        1023,   778,  6063,  2429,   527,     4,   734,    64,  1175,\n",
              "         793,   932,  5177,  6243,  5134,  7966,  2506,   390,   551,\n",
              "        4028,   551,   913,  1893,   180,   448,   263,   773,  1180,\n",
              "         814, 18279,   319,  1190,   131,   445,   430,    11,   595,\n",
              "        1023,   778,   914,    11,  6268, 11078,  1377,  3251,   128,\n",
              "        1213,  1829,   202,   595, 19466,     9,  1038,   243,   556,\n",
              "        5585,  2217,    72,    45,    40,  1135,  3604,  9496,  2571,\n",
              "         527,   167,  3511,   390,   102,    11,   778,   328,  3352,\n",
              "        1436,  3402,  7839,   783,   943,   778,   417,  1116,   694,\n",
              "         201,  9379,  9793,   527,    20,   616,  4016,  6243,  5134,\n",
              "        2662,   393,    10,   152,    81,   606, 41518,  1078,   277,\n",
              "          41,   753,  1289,    22,     6,   158, 17963,  1320,    94,\n",
              "          55,  5751,   390,   551, 16965,  2326, 21423,   360,   277,\n",
              "        1180,  3782,  4600,  3174,  3317, 13132, 57621,  7692,    15,\n",
              "          10,   689, 10047,  1044,  1134,   778,  1823,   390,   255,\n",
              "         488,    10,   954, 15434,   327,  7549,  2394,  3125, 33851,\n",
              "         982,   527, 14578,   160, 41519,  4441,  6243,  1265,   437,\n",
              "        5304,  4777,  7627,   551,   610,  2004,   201,  5304,   390,\n",
              "         527,  8757,  6519,  2478,  7801,  2667,  8346,  4108, 24443,\n",
              "        1462,   907, 28218,  3114,    10,    33,  8078,   663,    55,\n",
              "        9225,    10,   920,  2291,    25,   247,  1100,   551, 14750,\n",
              "       23277,   527,   277,   390,   551,   349,    49,  1847,  5612,\n",
              "         551, 14750,    14,   210,  6863,   277,  4333,   778,   117,\n",
              "         544,   901,   620,   444,  1510,  2483,   778,  2073,  2429,\n",
              "         527,  7309,  3597,    50,    10, 14750,     5,  3240,   210,\n",
              "         277, 11636,   168, 19807,  1847,  5612,   551,  1462, 14578,\n",
              "        8224,  4420,   192,  9794,  5526,  3210,   991,    10,   331,\n",
              "         981,  5319,  6415,  4554,   190,  1185,    18,   159,  3953,\n",
              "        3909,    56,   270,  1077,  2031,   437,   419,   488,   331,\n",
              "        4420,     4,   331,  2733,   143,    96,   118,   741,    10,\n",
              "        9677, 11264,   634, 30101,   137,  1829,  2142,   816,   438,\n",
              "        3217,  2283,  5962, 47576,   367,  1462,    57,   288,   734,\n",
              "       12098,  1462, 21004,  8960,   842,  2703, 23278,  2527,  8038,\n",
              "         128,   202,    57,   331, 35374,  2594,  9795,   285, 16285,\n",
              "         973,    10,   331,   981,    57, 13423,  5526,  4029,  2059,\n",
              "         524,  5983,  2654,   331,   385,  1033,   756,  8225,  1001,\n",
              "         192,  9794,   834,   436,   109,  4399,    57,    93,   414,\n",
              "         529,   311,   702,   192,  9794,  5526,   539,   281,  4100,\n",
              "         981,    65,    39, 21424,  1385,   208,  1038,  1523,  4064,\n",
              "       24444,  2380, 14913,    16,    14,   109,    49,    37,  1537,\n",
              "         180,   366,   104,  8187,   104,  9796,  9796,   528,   488,\n",
              "       35374,   321,   825,  9106,    10,   331,   463,  2714,   539,\n",
              "         437,   204,  4420,   110,   474, 57622,   331,   441,  4477,\n",
              "         392,  7591,    42,   133,  2143,  5647,   592,    42,  1090,\n",
              "          49,    36,  1075,     8,  1320,   527,   170,  1555,   505,\n",
              "        3851,  2147,   202,    57,   331,   614,  7277,    72,  1633,\n",
              "          11,   898,    34,  3251,   128,   261,  6990,    57,    93,\n",
              "        1582,  1038,  1135,  1231,   128,   202,    57,   331,  1736,\n",
              "         407,  6957, 11264,   634,  1327,    42,   188,  3256,  7056,\n",
              "         139,   204, 13424, 13942,   195,  5541,  4228, 78353,  7549,\n",
              "         239, 20586,   488,  1977,  1559,  2327, 57623,    57,   331,\n",
              "         691,   163,    68,   570,  1882,   381,   717,  1232,   331,\n",
              "         981,  1438,  1108,    39,  1020,   419,   340,  1385, 57623,\n",
              "        1224,   495,   592,   766,   495,   592,   837,   109,   594,\n",
              "         964,   437,   402,  4043,   402,   102,  8475,   592,   234,\n",
              "        2384,  2376,  7549,    52,  3476, 30102,  2376,    66,   331,\n",
              "        7591,  1100,  1327,  3256,  9051,   377,   122,  4476,   204,\n",
              "         669, 20190,  1157,    98,    46,  3476, 78354,    42,   208,\n",
              "        4044,   620,    86,   345,  1839,   954,  6128,    65,   201,\n",
              "       23279,   343,  9907,  1462, 11636,   505, 41520,   957,   618,\n",
              "        1230, 10166,  2501,  1555,  8301,    50,  3486,  6502,   180,\n",
              "       20190,   678,   170,  2065,   431,  2759, 47577,  8079,   896,\n",
              "        1154,    27,   419, 20587, 10612,    22, 11011,  7415,   519,\n",
              "         311,  3638,  2739,  5304,   437,    10,    65,  1399,   537,\n",
              "         750,   192,  9794,   834,   436,  2017,  3333,    90,   331,\n",
              "        1969,  8187,    65,   157, 14579, 57624,  9796, 14577,   825,\n",
              "         323,   925,  3476, 47578,   625, 47578, 33852, 28219,   413,\n",
              "          10, 13667, 16044,   611,    39,   204,    15,  1075,   497,\n",
              "       19467,  4892,   217, 14429,  1970,   501, 32466,   209,  2686,\n",
              "        1068, 11719,   679,  1349,   163, 57622,  7591,   231,  1936,\n",
              "        1971,  3256,  9051,  9327,   102,   520,  8120,  8121,     0,\n",
              "           0,     0,     0,     0,     0,     0,     0], dtype=int32)"
            ]
          },
          "metadata": {},
          "execution_count": 69
        }
      ]
    },
    {
      "cell_type": "code",
      "source": [
        "from sklearn.model_selection import train_test_split\n",
        "x_train, x_test, y_train, y_test = train_test_split(sequence_train, df['label'],\n",
        "                                                    test_size=0.2, random_state=42,\n",
        "                                                    stratify=df['label'])"
      ],
      "metadata": {
        "id": "fifTuU5g8wIh"
      },
      "execution_count": 70,
      "outputs": []
    },
    {
      "cell_type": "markdown",
      "source": [
        "##**MODEL TRAINING**"
      ],
      "metadata": {
        "id": "fH171a2Y9jLW"
      }
    },
    {
      "cell_type": "code",
      "source": [
        "from keras.layers import LSTM, Dropout, Dense, Embedding\n",
        "from  keras import Sequential \n",
        "\n",
        "model = Sequential([\n",
        "    Embedding(vocab_size+1, 100, weights=[embedding_matrix], trainable=False),\n",
        "    Dropout(0.2),\n",
        "    LSTM(128, return_sequences=True),\n",
        "    LSTM(128),\n",
        "    Dropout(0.2),\n",
        "    Dense(512),\n",
        "    Dropout(0.2),\n",
        "    Dense(256),\n",
        "    Dense(1, activation='sigmoid')\n",
        "])"
      ],
      "metadata": {
        "id": "TqIxQSPB9o9U"
      },
      "execution_count": 71,
      "outputs": []
    },
    {
      "cell_type": "code",
      "source": [
        "model.compile(\n",
        "    optimizer='adam',\n",
        "    loss='binary_crossentropy', \n",
        "    metrics='accuracy'\n",
        ")\n",
        "model.summary()"
      ],
      "metadata": {
        "id": "W2cIcRev-nSR",
        "colab": {
          "base_uri": "https://localhost:8080/"
        },
        "outputId": "22b4c7aa-e5d7-4f2a-ad40-a790b5608d2e"
      },
      "execution_count": 72,
      "outputs": [
        {
          "output_type": "stream",
          "name": "stdout",
          "text": [
            "Model: \"sequential_2\"\n",
            "_________________________________________________________________\n",
            " Layer (type)                Output Shape              Param #   \n",
            "=================================================================\n",
            " embedding_2 (Embedding)     (None, None, 100)         18733100  \n",
            "                                                                 \n",
            " dropout_6 (Dropout)         (None, None, 100)         0         \n",
            "                                                                 \n",
            " lstm_4 (LSTM)               (None, None, 128)         117248    \n",
            "                                                                 \n",
            " lstm_5 (LSTM)               (None, 128)               131584    \n",
            "                                                                 \n",
            " dropout_7 (Dropout)         (None, 128)               0         \n",
            "                                                                 \n",
            " dense_6 (Dense)             (None, 512)               66048     \n",
            "                                                                 \n",
            " dropout_8 (Dropout)         (None, 512)               0         \n",
            "                                                                 \n",
            " dense_7 (Dense)             (None, 256)               131328    \n",
            "                                                                 \n",
            " dense_8 (Dense)             (None, 1)                 257       \n",
            "                                                                 \n",
            "=================================================================\n",
            "Total params: 19,179,565\n",
            "Trainable params: 446,465\n",
            "Non-trainable params: 18,733,100\n",
            "_________________________________________________________________\n"
          ]
        }
      ]
    },
    {
      "cell_type": "code",
      "source": [
        "accuracy_threshold = 98e-2\n",
        "class cbacks(tf.keras.callbacks.Callback):\n",
        "    def on_epoch_end(self, epoch, logs = None):\n",
        "        if logs.get('accuracy') >= accuracy_threshold:\n",
        "            print('\\nFor Epoch', epoch, \n",
        "                  '\\nAccuracy has reach = %2.2f%%' %(logs['accuracy']*100),\n",
        "                  'training has been stopped.')\n",
        "            self.model.stop_training = True"
      ],
      "metadata": {
        "id": "AIYRadz8UiH6"
      },
      "execution_count": 73,
      "outputs": []
    },
    {
      "cell_type": "code",
      "source": [
        "history = model.fit(x_train, y_train, epochs=14, batch_size=128, \n",
        "                    validation_data=[x_test, y_test], callbacks = [cbacks()])"
      ],
      "metadata": {
        "colab": {
          "base_uri": "https://localhost:8080/"
        },
        "id": "ISyoEzNQj5ue",
        "outputId": "40ba25ff-c1bf-4919-9e7b-2d28cd759f47"
      },
      "execution_count": 74,
      "outputs": [
        {
          "output_type": "stream",
          "name": "stdout",
          "text": [
            "Epoch 1/14\n",
            "130/130 [==============================] - 18s 114ms/step - loss: 0.6756 - accuracy: 0.5537 - val_loss: 0.6487 - val_accuracy: 0.6092\n",
            "Epoch 2/14\n",
            "130/130 [==============================] - 14s 106ms/step - loss: 0.6575 - accuracy: 0.5720 - val_loss: 0.7352 - val_accuracy: 0.5449\n",
            "Epoch 3/14\n",
            "130/130 [==============================] - 14s 108ms/step - loss: 0.6820 - accuracy: 0.5359 - val_loss: 0.6851 - val_accuracy: 0.5541\n",
            "Epoch 4/14\n",
            "130/130 [==============================] - 14s 106ms/step - loss: 0.6729 - accuracy: 0.5487 - val_loss: 0.6360 - val_accuracy: 0.6299\n",
            "Epoch 5/14\n",
            "130/130 [==============================] - 14s 108ms/step - loss: 0.6539 - accuracy: 0.5894 - val_loss: 0.6434 - val_accuracy: 0.5685\n",
            "Epoch 6/14\n",
            "130/130 [==============================] - 15s 112ms/step - loss: 0.5667 - accuracy: 0.7182 - val_loss: 0.4943 - val_accuracy: 0.7830\n",
            "Epoch 7/14\n",
            "130/130 [==============================] - 13s 104ms/step - loss: 0.4088 - accuracy: 0.8179 - val_loss: 0.3266 - val_accuracy: 0.8620\n",
            "Epoch 8/14\n",
            "130/130 [==============================] - 14s 104ms/step - loss: 0.2784 - accuracy: 0.8876 - val_loss: 0.2630 - val_accuracy: 0.8919\n",
            "Epoch 9/14\n",
            "130/130 [==============================] - 14s 104ms/step - loss: 0.2327 - accuracy: 0.9112 - val_loss: 0.1961 - val_accuracy: 0.9275\n",
            "Epoch 10/14\n",
            "130/130 [==============================] - 14s 105ms/step - loss: 0.1905 - accuracy: 0.9270 - val_loss: 0.1728 - val_accuracy: 0.9323\n",
            "Epoch 11/14\n",
            "130/130 [==============================] - 14s 105ms/step - loss: 0.1641 - accuracy: 0.9359 - val_loss: 0.1635 - val_accuracy: 0.9381\n",
            "Epoch 12/14\n",
            "130/130 [==============================] - 14s 105ms/step - loss: 0.1407 - accuracy: 0.9477 - val_loss: 0.1449 - val_accuracy: 0.9490\n",
            "Epoch 13/14\n",
            "130/130 [==============================] - 14s 105ms/step - loss: 0.1277 - accuracy: 0.9511 - val_loss: 0.1407 - val_accuracy: 0.9482\n",
            "Epoch 14/14\n",
            "130/130 [==============================] - 14s 105ms/step - loss: 0.1126 - accuracy: 0.9581 - val_loss: 0.1228 - val_accuracy: 0.9555\n"
          ]
        }
      ]
    },
    {
      "cell_type": "code",
      "source": [
        "plt.plot(history.history['accuracy'])\n",
        "plt.plot(history.history['val_accuracy'])\n",
        "plt.xlabel('eporchs')\n",
        "plt.ylabel('accuracy')\n",
        "plt.legend(['Train', 'Test'])\n",
        "plt.show()"
      ],
      "metadata": {
        "id": "KdtIqTNBHdLj",
        "colab": {
          "base_uri": "https://localhost:8080/",
          "height": 279
        },
        "outputId": "901d6443-e416-444f-c3a6-de4a4266f0d7"
      },
      "execution_count": 75,
      "outputs": [
        {
          "output_type": "display_data",
          "data": {
            "text/plain": [
              "<Figure size 432x288 with 1 Axes>"
            ],
            "image/png": "[encoded data removed]"
          },
          "metadata": {
            "needs_background": "light"
          }
        }
      ]
    },
    {
      "cell_type": "code",
      "source": [
        "plt.plot(history.history['loss'])\n",
        "plt.plot(history.history['val_loss'])\n",
        "plt.xlabel('eporchs')\n",
        "plt.ylabel('loss')\n",
        "plt.legend(['Train', 'Test'])\n",
        "plt.show()"
      ],
      "metadata": {
        "id": "QpVd83pIfetc",
        "colab": {
          "base_uri": "https://localhost:8080/",
          "height": 279
        },
        "outputId": "2e523e5f-b9e9-4ae7-fd39-6470b2c2a843"
      },
      "execution_count": 76,
      "outputs": [
        {
          "output_type": "display_data",
          "data": {
            "text/plain": [
              "<Figure size 432x288 with 1 Axes>"
            ],
            "image/png": "[encoded data removed]"
          },
          "metadata": {
            "needs_background": "light"
          }
        }
      ]
    }
  ]
}